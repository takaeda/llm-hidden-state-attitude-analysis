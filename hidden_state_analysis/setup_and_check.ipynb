{
 "cells": [
  {
   "cell_type": "markdown",
   "metadata": {},
   "source": [
    "# 🛠️ Hidden State Analysis: 事前準備・環境確認\n",
    "\n",
    "このノートブックでは、Hidden State分析を実行するための**事前準備**を行います。\n",
    "\n",
    "## ⚠️ 重要\n",
    "**必ずこのノートブックを最初に実行してから、メイン分析ノートブック（`hidden_state_analysis_notebook.ipynb`）を実行してください。**\n",
    "\n",
    "## 実行手順\n",
    "1. セルを**上から順番に**実行してください\n",
    "2. エラーが出た場合は、そのセルの指示に従って解決してください\n",
    "3. 全てのセルが✅になったら準備完了です"
   ]
  },
  {
   "cell_type": "markdown",
   "metadata": {},
   "source": [
    "## 1. 🐍 Python環境の確認"
   ]
  },
  {
   "cell_type": "code",
   "execution_count": null,
   "metadata": {},
   "outputs": [],
   "source": [
    "import sys\n",
    "import platform\n",
    "\n",
    "print(\"🐍 Python環境情報\")\n",
    "print(\"=\" * 40)\n",
    "print(f\"Python version: {sys.version}\")\n",
    "print(f\"Platform: {platform.platform()}\")\n",
    "print(f\"Architecture: {platform.architecture()}\")\n",
    "\n",
    "# Python 3.7以上を推奨\n",
    "python_version = sys.version_info\n",
    "if python_version.major >= 3 and python_version.minor >= 7:\n",
    "    print(\"\\n✅ Python version OK (3.7+)\")\n",
    "else:\n",
    "    print(\"\\n❌ Warning: Python 3.7以上を推奨します\")\n",
    "\n",
    "print(\"\\n✅ 環境確認完了\")"
   ]
  },
  {
   "cell_type": "markdown",
   "metadata": {},
   "source": [
    "## 2. 📦 必要ライブラリのインストール\n",
    "\n",
    "データ分析に必要なライブラリをインストールします。"
   ]
  },
  {
   "cell_type": "code",
   "execution_count": null,
   "metadata": {},
   "outputs": [],
   "source": [
    "print(\"📦 ライブラリインストール開始...\")\n",
    "print(\"=\" * 50)\n",
    "\n",
    "# 必要ライブラリのリスト\n",
    "required_packages = [\n",
    "    \"pandas>=1.5.0\",\n",
    "    \"numpy>=1.21.0\", \n",
    "    \"matplotlib>=3.5.0\",\n",
    "    \"seaborn>=0.11.0\",\n",
    "    \"scikit-learn>=1.1.0\"\n",
    "]\n",
    "\n",
    "import subprocess\n",
    "import importlib\n",
    "\n",
    "# 各パッケージをインストール\n",
    "for package in required_packages:\n",
    "    package_name = package.split('>')[0].split('=')[0]\n",
    "    print(f\"\\n📥 Installing {package}...\")\n",
    "    try:\n",
    "        result = subprocess.run([sys.executable, \"-m\", \"pip\", \"install\", \"-q\", package], \n",
    "                              capture_output=True, text=True, timeout=120)\n",
    "        if result.returncode == 0:\n",
    "            print(f\"✅ {package_name} インストール成功\")\n",
    "        else:\n",
    "            print(f\"❌ {package_name} インストールエラー: {result.stderr}\")\n",
    "    except subprocess.TimeoutExpired:\n",
    "        print(f\"⏰ {package_name} インストールタイムアウト（時間がかかっています）\")\n",
    "    except Exception as e:\n",
    "        print(f\"❌ {package_name} インストール例外: {str(e)}\")\n",
    "\n",
    "print(\"\\n🎉 ライブラリインストール処理完了!\")"
   ]
  },
  {
   "cell_type": "markdown",
   "metadata": {},
   "source": [
    "## 3. ✅ ライブラリ動作確認\n",
    "\n",
    "インストールしたライブラリが正常に動作するかテストします。"
   ]
  },
  {
   "cell_type": "code",
   "execution_count": null,
   "metadata": {},
   "outputs": [],
   "source": [
    "print(\"🔍 ライブラリ動作確認\")\n",
    "print(\"=\" * 40)\n",
    "\n",
    "# 各ライブラリのインポートテスト\n",
    "libraries = {\n",
    "    'pandas': 'pd',\n",
    "    'numpy': 'np', \n",
    "    'matplotlib.pyplot': 'plt',\n",
    "    'seaborn': 'sns',\n",
    "    'sklearn.metrics.pairwise': None\n",
    "}\n",
    "\n",
    "success_count = 0\n",
    "total_count = len(libraries)\n",
    "\n",
    "for lib_name, alias in libraries.items():\n",
    "    try:\n",
    "        if alias:\n",
    "            exec(f\"import {lib_name} as {alias}\")\n",
    "            # バージョン情報を取得\n",
    "            if hasattr(eval(alias), '__version__'):\n",
    "                version = eval(f\"{alias}.__version__\")\n",
    "                print(f\"✅ {lib_name}: v{version}\")\n",
    "            else:\n",
    "                print(f\"✅ {lib_name}: インポート成功\")\n",
    "        else:\n",
    "            exec(f\"from {lib_name} import cosine_distances\")\n",
    "            print(f\"✅ {lib_name}: インポート成功\")\n",
    "        success_count += 1\n",
    "    except ImportError as e:\n",
    "        print(f\"❌ {lib_name}: インポートエラー - {str(e)}\")\n",
    "    except Exception as e:\n",
    "        print(f\"❌ {lib_name}: エラー - {str(e)}\")\n",
    "\n",
    "print(f\"\\n📊 結果: {success_count}/{total_count} ライブラリが正常に動作\")\n",
    "\n",
    "if success_count == total_count:\n",
    "    print(\"🎉 全ライブラリの動作確認完了！\")\n",
    "else:\n",
    "    print(\"⚠️  一部ライブラリで問題があります。上記エラーを確認してください。\")"
   ]
  }
 ],
 "metadata": {
  "kernelspec": {
   "display_name": "Python 3",
   "language": "python",
   "name": "python3"
  },
  "language_info": {
   "codemirror_mode": {
    "name": "ipython",
    "version": 3
   },
   "file_extension": ".py",
   "mimetype": "text/x-python",
   "name": "python",
   "nbconvert_exporter": "python",
   "pygments_lexer": "ipython3",
   "version": "3.10.12"
  }
 },
 "nbformat": 4,
 "nbformat_minor": 4
}
